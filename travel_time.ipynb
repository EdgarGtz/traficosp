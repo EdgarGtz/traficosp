{
 "cells": [
  {
   "cell_type": "markdown",
   "metadata": {},
   "source": [
    "## Waze for Cities Response Processing\n",
    "\n",
    "El proceso a continuación descarga datos recopilados por la herramienta \"Traffic View\" de Waze for Cities sobre los cinco tramos de la Avenida Alfonso Reyes que se observan al momento."
   ]
  },
  {
   "cell_type": "code",
   "execution_count": 1,
   "metadata": {},
   "outputs": [],
   "source": [
    "# Importamos librerías\n",
    "\n",
    "from urllib.request import urlopen\n",
    "import json\n",
    "import pandas as pd"
   ]
  },
  {
   "cell_type": "markdown",
   "metadata": {},
   "source": [
    "Los datos que recopila \"Traffic View\" son guardados en un archivo tipo json en formato de URL. Este URL es permanente, lo cual nos permite estar descargando los datos de una misma liga siempre. A continuación se muestra cómo:"
   ]
  },
  {
   "cell_type": "code",
   "execution_count": 2,
   "metadata": {},
   "outputs": [],
   "source": [
    "# Guardamos el URL del archivo tipo json para trabajar con él como un diccionario\n",
    "\n",
    "url = \"https://www.waze.com/row-rtserver/broadcast/BroadcastRSS?format=JSON&buid=1397c15e3dfa4f4f7d815e17dd893f4d\"\n",
    "response = urlopen(url)\n",
    "data = json.loads(response.read())"
   ]
  },
  {
   "cell_type": "markdown",
   "metadata": {},
   "source": [
    "El archivo que cargamos a la variable `data` es esencialmente un diccionario. Dentro de esta variable existen diversas llaves de las cuales tan solo una (`routes`) es relevante para obtener y trabajar con los datos de tiempo de traslado de los tramos observados en la Av. Alfonso Reyes. La celda a continuación toma esa llave y sus datos correspondientes y los guarda en un DataFrame."
   ]
  },
  {
   "cell_type": "code",
   "execution_count": 3,
   "metadata": {},
   "outputs": [],
   "source": [
    "# Guardamos la llave 'routes' en un DataFrame\n",
    "\n",
    "routes = pd.DataFrame.from_dict(data['routes'])\n",
    "\n",
    "# Removemos las columnas que no nos interesan\n",
    "routes = routes.drop(['toName', 'line', 'bbox', 'fromName',\n",
    "                      'jamLevel', 'id', 'type', 'jams'],\n",
    "                     axis = 1)"
   ]
  },
  {
   "cell_type": "markdown",
   "metadata": {},
   "source": [
    "El siguiente paso es crear nuestra base de datos con todos los datos relevantes limpios y listos para ser procesados. El primer paso es crear un DataFrame vacío e ir agregando las columnas relevantes."
   ]
  },
  {
   "cell_type": "code",
   "execution_count": 4,
   "metadata": {},
   "outputs": [],
   "source": [
    "## Creamos un dummy DataFrame para crear nuestra base de datos\n",
    "\n",
    "travel_time_ar = pd.DataFrame()\n",
    "\n",
    "# Creamos una columna con los nombres de cada ruta\n",
    "travel_time_ar['ruta'] = routes['name']\n",
    "\n",
    "# Creamos una columna con la distancia de cada ruta (en metros)\n",
    "travel_time_ar['distancia'] = routes['length']\n",
    "\n",
    "# Creamos una columna con el tiempo de traslado (en segundos)\n",
    "travel_time_ar['travel_time'] = routes['time']\n",
    "\n",
    "# Creamos una columna con el tiempo histórico de traslado (en segundos)\n",
    "travel_time_ar['historic_time'] = routes['historicTime']\n",
    "\n",
    "## Trabajo con Fechas\n",
    "\n",
    "# A nuestra base de datos le añadimos \n",
    "# una columna con el timestamp actual\n",
    "travel_time_ar['fecha'] = pd.Timestamp.now()\n",
    "\n",
    "# Creaamos una columna que redondea la hora\n",
    "# del timestamp al minuto más cercano\n",
    "travel_time_ar['hora'] = travel_time_ar['fecha'].dt.floor('T')\n",
    "\n",
    "# A la columna 'hora' le dejamos \n",
    "# tan solo la hora del timestamp\n",
    "travel_time_ar['hora'] = travel_time_ar['hora'].dt.time\n",
    "\n",
    "# A la columna 'fecha' le dejamos\n",
    "# tan solo la fecha actual\n",
    "travel_time_ar['fecha'] = travel_time_ar['fecha'].dt.date"
   ]
  },
  {
   "cell_type": "markdown",
   "metadata": {},
   "source": [
    "Finalmente, reordenamos las columnas de la base de datos y realizamos una transformación importante: convertimos la unidad de distancia de metros a kilómetros."
   ]
  },
  {
   "cell_type": "code",
   "execution_count": 5,
   "metadata": {},
   "outputs": [],
   "source": [
    "# Reordenamos las columnas de nuestro DataFrame\n",
    "# para comenzar con la fecha y hora del reporte\n",
    "reorder = ['fecha', 'hora', 'ruta',\n",
    "           'distancia', 'travel_time', 'historic_time']\n",
    "\n",
    "travel_time_ar = travel_time_ar.reindex(columns = reorder)\n",
    "\n",
    "# Transformamos la distancia de las rutas a kilómetros\n",
    "travel_time_ar['distancia'] = (travel_time_ar['distancia'] / 1000).round(decimals = 1)"
   ]
  },
  {
   "cell_type": "markdown",
   "metadata": {},
   "source": [
    "Es posible transformar la unidad de tiempo de traslado de segundos un formato de MM:SS, sin embargo, este formato no es agradable para hacer trabajos con gráficas o para realizar operaciones. Si se desea trabajar con un formato de ese estilo, las líneas abajo cumplen esa función:\n",
    "\n",
    "`travel_time_ar['travel_time'] = travel_time_ar['travel_time'].astype('datetime64[s]').dt.strftime(\"%M:%S\")`\n",
    "`travel_time_ar['historic_time'] = travel_time_ar['historic_time'].astype('datetime64[s]').dt.strftime(\"%M:%S\")`\n",
    "\n",
    "Por ahora, la base de datos deja la unidad de tiempo de traslado en el número de segundos. # El resultado es un DataFrame con 6 columnas y 10 filas donde cada fila presenta la fecha y hora de la observación, al igual que el nombre de la ruta, su distancia y sus tiempos de traslado."
   ]
  },
  {
   "cell_type": "code",
   "execution_count": 6,
   "metadata": {
    "scrolled": true
   },
   "outputs": [
    {
     "data": {
      "text/html": [
       "<div>\n",
       "<style scoped>\n",
       "    .dataframe tbody tr th:only-of-type {\n",
       "        vertical-align: middle;\n",
       "    }\n",
       "\n",
       "    .dataframe tbody tr th {\n",
       "        vertical-align: top;\n",
       "    }\n",
       "\n",
       "    .dataframe thead th {\n",
       "        text-align: right;\n",
       "    }\n",
       "</style>\n",
       "<table border=\"1\" class=\"dataframe\">\n",
       "  <thead>\n",
       "    <tr style=\"text-align: right;\">\n",
       "      <th></th>\n",
       "      <th>fecha</th>\n",
       "      <th>hora</th>\n",
       "      <th>ruta</th>\n",
       "      <th>distancia</th>\n",
       "      <th>travel_time</th>\n",
       "      <th>historic_time</th>\n",
       "    </tr>\n",
       "  </thead>\n",
       "  <tbody>\n",
       "    <tr>\n",
       "      <th>0</th>\n",
       "      <td>2021-09-03</td>\n",
       "      <td>11:14:00</td>\n",
       "      <td>Las Olimpiadas - Gómez Morín</td>\n",
       "      <td>2.6</td>\n",
       "      <td>254</td>\n",
       "      <td>228</td>\n",
       "    </tr>\n",
       "    <tr>\n",
       "      <th>1</th>\n",
       "      <td>2021-09-03</td>\n",
       "      <td>11:14:00</td>\n",
       "      <td>Gómez Morín - Las Olimpiadas</td>\n",
       "      <td>2.6</td>\n",
       "      <td>243</td>\n",
       "      <td>248</td>\n",
       "    </tr>\n",
       "    <tr>\n",
       "      <th>2</th>\n",
       "      <td>2021-09-03</td>\n",
       "      <td>11:14:00</td>\n",
       "      <td>UDEM - Gómez Morín</td>\n",
       "      <td>6.6</td>\n",
       "      <td>585</td>\n",
       "      <td>565</td>\n",
       "    </tr>\n",
       "    <tr>\n",
       "      <th>3</th>\n",
       "      <td>2021-09-03</td>\n",
       "      <td>11:14:00</td>\n",
       "      <td>Gómez Morín - UDEM</td>\n",
       "      <td>6.7</td>\n",
       "      <td>600</td>\n",
       "      <td>565</td>\n",
       "    </tr>\n",
       "    <tr>\n",
       "      <th>4</th>\n",
       "      <td>2021-09-03</td>\n",
       "      <td>11:14:00</td>\n",
       "      <td>UDEM - San Agustín</td>\n",
       "      <td>9.5</td>\n",
       "      <td>862</td>\n",
       "      <td>821</td>\n",
       "    </tr>\n",
       "    <tr>\n",
       "      <th>5</th>\n",
       "      <td>2021-09-03</td>\n",
       "      <td>11:14:00</td>\n",
       "      <td>San Agustín - UDEM</td>\n",
       "      <td>9.5</td>\n",
       "      <td>915</td>\n",
       "      <td>854</td>\n",
       "    </tr>\n",
       "    <tr>\n",
       "      <th>6</th>\n",
       "      <td>2021-09-03</td>\n",
       "      <td>11:14:00</td>\n",
       "      <td>UDEM - Pedro Ramírez V</td>\n",
       "      <td>11.9</td>\n",
       "      <td>1151</td>\n",
       "      <td>1120</td>\n",
       "    </tr>\n",
       "    <tr>\n",
       "      <th>7</th>\n",
       "      <td>2021-09-03</td>\n",
       "      <td>11:14:00</td>\n",
       "      <td>Pedro Ramírez V - UDEM</td>\n",
       "      <td>11.8</td>\n",
       "      <td>1148</td>\n",
       "      <td>1066</td>\n",
       "    </tr>\n",
       "    <tr>\n",
       "      <th>8</th>\n",
       "      <td>2021-09-03</td>\n",
       "      <td>11:14:00</td>\n",
       "      <td>UDEM - Las Olimpiadas</td>\n",
       "      <td>4.0</td>\n",
       "      <td>328</td>\n",
       "      <td>338</td>\n",
       "    </tr>\n",
       "    <tr>\n",
       "      <th>9</th>\n",
       "      <td>2021-09-03</td>\n",
       "      <td>11:14:00</td>\n",
       "      <td>Las Olimpiadas - UDEM</td>\n",
       "      <td>4.0</td>\n",
       "      <td>351</td>\n",
       "      <td>311</td>\n",
       "    </tr>\n",
       "  </tbody>\n",
       "</table>\n",
       "</div>"
      ],
      "text/plain": [
       "        fecha      hora                          ruta  distancia  travel_time  \\\n",
       "0  2021-09-03  11:14:00  Las Olimpiadas - Gómez Morín        2.6          254   \n",
       "1  2021-09-03  11:14:00  Gómez Morín - Las Olimpiadas        2.6          243   \n",
       "2  2021-09-03  11:14:00            UDEM - Gómez Morín        6.6          585   \n",
       "3  2021-09-03  11:14:00            Gómez Morín - UDEM        6.7          600   \n",
       "4  2021-09-03  11:14:00            UDEM - San Agustín        9.5          862   \n",
       "5  2021-09-03  11:14:00            San Agustín - UDEM        9.5          915   \n",
       "6  2021-09-03  11:14:00        UDEM - Pedro Ramírez V       11.9         1151   \n",
       "7  2021-09-03  11:14:00        Pedro Ramírez V - UDEM       11.8         1148   \n",
       "8  2021-09-03  11:14:00         UDEM - Las Olimpiadas        4.0          328   \n",
       "9  2021-09-03  11:14:00         Las Olimpiadas - UDEM        4.0          351   \n",
       "\n",
       "   historic_time  \n",
       "0            228  \n",
       "1            248  \n",
       "2            565  \n",
       "3            565  \n",
       "4            821  \n",
       "5            854  \n",
       "6           1120  \n",
       "7           1066  \n",
       "8            338  \n",
       "9            311  "
      ]
     },
     "execution_count": 6,
     "metadata": {},
     "output_type": "execute_result"
    }
   ],
   "source": [
    "travel_time_ar"
   ]
  },
  {
   "cell_type": "code",
   "execution_count": 7,
   "metadata": {},
   "outputs": [],
   "source": [
    "# Agregamos los datos nuevos a la base de datos\n",
    "\n",
    "# Cargamos el archivo de la base\n",
    "base_completa = pd.read_excel(r\"travel_time_ar.xlsx\")\n",
    "\n",
    "# Python lee la columna de fecha como timestamp\n",
    "# La transformamos para que sea tan solo la fecha\n",
    "base_completa['fecha'] = base_completa['fecha'].dt.date\n",
    "\n",
    "# Concatenamos los datos nuevos a la base completa\n",
    "base_completa = pd.concat([base_completa, travel_time_ar])\n",
    "\n",
    "# Guardamos el archivo de excel actualizado de la base completa\n",
    "writer_completa = pd.ExcelWriter(r\"travel_time_ar.xlsx\",\n",
    "                                 engine = \"xlsxwriter\")\n",
    "\n",
    "base_completa.to_excel(writer_completa, index = False)\n",
    "\n",
    "writer_completa.save()"
   ]
  },
  {
   "cell_type": "code",
   "execution_count": null,
   "metadata": {},
   "outputs": [],
   "source": []
  }
 ],
 "metadata": {
  "kernelspec": {
   "display_name": "Python 3",
   "language": "python",
   "name": "python3"
  },
  "language_info": {
   "codemirror_mode": {
    "name": "ipython",
    "version": 3
   },
   "file_extension": ".py",
   "mimetype": "text/x-python",
   "name": "python",
   "nbconvert_exporter": "python",
   "pygments_lexer": "ipython3",
   "version": "3.9.0"
  }
 },
 "nbformat": 4,
 "nbformat_minor": 5
}
